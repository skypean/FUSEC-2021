{
 "cells": [
  {
   "cell_type": "code",
   "execution_count": 1,
   "metadata": {},
   "outputs": [],
   "source": [
    "from itertools import combinations\n",
    "from decimal import Decimal, getcontext\n",
    "import random\n",
    "import struct"
   ]
  },
  {
   "cell_type": "code",
   "execution_count": 2,
   "metadata": {},
   "outputs": [],
   "source": [
    "ct = 595880127300380678523256691710477534988010995960362123959020640388069230984429515"
   ]
  },
  {
   "cell_type": "code",
   "execution_count": 3,
   "metadata": {},
   "outputs": [],
   "source": [
    "primes = [2, 3, 5, 7, 11, 13, 17, 19, 23, 29, 31, 37,\n",
    "          41, 43, 47, 53, 59, 61, 67, 71, 73, 79, 83, 89, 97]"
   ]
  },
  {
   "cell_type": "code",
   "execution_count": 4,
   "metadata": {},
   "outputs": [
    {
     "name": "stdout",
     "output_type": "stream",
     "text": [
      "['}', '0', 'S', '\\x00', 'w', 'e', '\\x00', '4', 'c', '\\x00', '\\x00', '{', 'h', '\\x00', 'n', '\\x00', '4', 'y', '\\x00', 'n', 'y', '\\x00', '0', 'U', 'F']\n"
     ]
    }
   ],
   "source": [
    "getcontext().prec = int(100)\n",
    "keys = []\n",
    "for i in range(len(primes)):\n",
    "    keys.append(int(Decimal(int(primes[i])).ln() * int(2 ** 256)))\n",
    "\n",
    "n = len(keys)\n",
    "d = n / log(max(keys), 2)\n",
    "assert CDF(d) < 0.9408\n",
    "\n",
    "M = Matrix.identity(n)\n",
    "\n",
    "last_row = [128 for x in keys]\n",
    "M_last_row = Matrix(ZZ, 1, len(last_row), last_row)\n",
    "\n",
    "last_col = keys[:]\n",
    "last_col.append(ct)\n",
    "M_last_col = Matrix(ZZ, len(last_col), 1, last_col)\n",
    "\n",
    "M = M.stack(M_last_row)\n",
    "M = M.augment(M_last_col)\n",
    "\n",
    "X = M.LLL()\n",
    "target = X[0][:-1]\n",
    "result = []\n",
    "\n",
    "for x in target:\n",
    "    if x != 128:\n",
    "        result.append(128 - x)\n",
    "    else:\n",
    "        result.append(0)\n",
    "\n",
    "flag_chr = [chr(c) for c in result]\n",
    "cand_chr = flag_chr[:]\n",
    "\n",
    "print(cand_chr)"
   ]
  },
  {
   "cell_type": "code",
   "execution_count": 5,
   "metadata": {},
   "outputs": [
    {
     "name": "stdout",
     "output_type": "stream",
     "text": [
      "b'FUSec{0hn04nyw4y}\\x00\\x00\\x00\\x00\\x00\\x00\\x00\\x00'\n"
     ]
    }
   ],
   "source": [
    "import itertools\n",
    "import random\n",
    "import struct\n",
    "\n",
    "shuffled = b'}0S\\x00we\\x004c\\x00\\x00{h\\x00n\\x004y\\x00ny\\x000UF'\n",
    "chars = list(set(shuffled) - set([0]))\n",
    "\n",
    "for x in itertools.product(chars, repeat=4):\n",
    "    seed = struct.unpack('<i', bytes(x))[0]\n",
    "    random.seed(seed)\n",
    "\n",
    "    arr = [i for i in range(25)]\n",
    "    random.shuffle(arr)\n",
    "\n",
    "    flag = [0 for _ in range(25)]\n",
    "    for i in range(25):\n",
    "        flag[i] = shuffled[arr[i]]\n",
    "\n",
    "    flag = bytes(flag)\n",
    "    if flag.startswith(b'FUSec{'):\n",
    "        print(flag)"
   ]
  }
 ],
 "metadata": {
  "kernelspec": {
   "display_name": "SageMath 9.2",
   "language": "sage",
   "name": "sagemath"
  },
  "language_info": {
   "codemirror_mode": {
    "name": "ipython",
    "version": 3
   },
   "file_extension": ".py",
   "mimetype": "text/x-python",
   "name": "python",
   "nbconvert_exporter": "python",
   "pygments_lexer": "ipython3",
   "version": "3.7.7"
  }
 },
 "nbformat": 4,
 "nbformat_minor": 4
}
